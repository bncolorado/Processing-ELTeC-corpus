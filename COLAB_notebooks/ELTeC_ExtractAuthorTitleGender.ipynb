{
  "nbformat": 4,
  "nbformat_minor": 0,
  "metadata": {
    "colab": {
      "name": "ELTeC_ExtractAuthorTitleGender.ipynb",
      "provenance": [],
      "collapsed_sections": [],
      "toc_visible": true,
      "authorship_tag": "ABX9TyN7wmHm2h4S9Gm97hpTDUe2",
      "include_colab_link": true
    },
    "kernelspec": {
      "name": "python3",
      "display_name": "Python 3"
    },
    "language_info": {
      "name": "python"
    }
  },
  "cells": [
    {
      "cell_type": "markdown",
      "metadata": {
        "id": "view-in-github",
        "colab_type": "text"
      },
      "source": [
        "<a href=\"https://colab.research.google.com/github/bncolorado/Processing-ELTeC-corpus/blob/main/COLAB_notebooks/ELTeC_ExtractAuthorTitleGender.ipynb\" target=\"_parent\"><img src=\"https://colab.research.google.com/assets/colab-badge.svg\" alt=\"Open In Colab\"/></a>"
      ]
    },
    {
      "cell_type": "markdown",
      "metadata": {
        "id": "sltxVqCyjYoy"
      },
      "source": [
        "# Extracting author, title and gender from ELTeC corpus\n",
        "\n",
        "Borja Navarro Colorado, University of Alicante\n",
        "\n",
        "This notebook contains basic Python code to extract information from the ELTeC corpus (https://github.com/COST-ELTeC)\n"
      ]
    },
    {
      "cell_type": "markdown",
      "metadata": {
        "id": "6qo2cbr3jfNl"
      },
      "source": [
        "## Loading ELTeC corpus in Colab\n",
        "\n",
        "Only ELTeC-SPA will be loaded.\n",
        "\n",
        "Corpus URL is https://github.com/COST-ELTeC/ELTeC-spa > \"code\" > copy \"Download ZIP\"\n",
        "\n",
        "To load other collection (other languages): https://github.com/COST-ELTeC"
      ]
    },
    {
      "cell_type": "code",
      "metadata": {
        "id": "NR0jsHePi3hz"
      },
      "source": [
        "import zipfile\n",
        "\n",
        "!wget \"https://github.com/COST-ELTeC/ELTeC-spa/archive/refs/heads/master.zip\" # paste here corpus url\n",
        "\n",
        "zip_ref = zipfile.ZipFile('master.zip', 'r') #Opens the zip file in read mode\n",
        "zip_ref.extractall() #Extracts files here (/content/)\n",
        "zip_ref.close() \n",
        "!rm master.zip #Removes ZIP to save space\n"
      ],
      "execution_count": null,
      "outputs": []
    },
    {
      "cell_type": "markdown",
      "metadata": {
        "id": "DhuRJ_kNnOnF"
      },
      "source": [
        "Now, the novels with the XML-TEI annotation are in this directory:\n",
        "\n",
        "/content/ELTeC-spa-master/level1/\n",
        "\n",
        "It is the level 1 that contains novels annotated with XML-TEI tags: header, structure and other textual data. See encoding guidelines:\n",
        "\n",
        "https://distantreading.github.io/Training/Budapest/encodingGuide-1.html\n",
        "\n",
        "https://distantreading.github.io/Training/Budapest/encodingGuide-2.html#(1)\n",
        "\n",
        "Level 0 will contain novels in plain texts (currently is empty)\n",
        "\n",
        "Leve 2 will contain novels annotated with Part of Speech and lemmas (soon).\n"
      ]
    },
    {
      "cell_type": "markdown",
      "metadata": {
        "id": "vQr4fyCXnh51"
      },
      "source": [
        "## List the files\n",
        "\n",
        "To see the files of each novel, we can iterate over the directory \"level1\":"
      ]
    },
    {
      "cell_type": "code",
      "metadata": {
        "id": "dnpBF1-CprMB"
      },
      "source": [
        "import os\n",
        "\n",
        "dir_in = \"/content/ELTeC-spa-master/level1/\"\n",
        "\n",
        "for base, directorios, ficheros in os.walk(dir_in): #Go through directory and open file one by one\n",
        "  for fichero in ficheros: #the iteration begins\n",
        "    if fichero[0:3] == \"SPA\": #to avoid open README file\n",
        "      print(fichero) # to see the name of each file\n"
      ],
      "execution_count": null,
      "outputs": []
    },
    {
      "cell_type": "markdown",
      "metadata": {
        "id": "AXTbiFhNsGIn"
      },
      "source": [
        "## Open each file and extract informatio about author and title\n",
        "\n",
        "To parse XML tags, we will use BeautifulSoup 4:\n",
        "\n",
        "https://beautiful-soup-4.readthedocs.io/en/latest/#quick-start\n",
        "\n",
        "This script is similar to the previous one, but it includes how to open each file and extract information."
      ]
    },
    {
      "cell_type": "code",
      "metadata": {
        "id": "0MB1hnkrsvx8"
      },
      "source": [
        "from bs4 import BeautifulSoup\n",
        "\n",
        "dir_in = \"/content/ELTeC-spa-master/level1/\"\n",
        "\n",
        "authors_titles = []\n",
        "\n",
        "for base, directorios, ficheros in os.walk(dir_in):\n",
        "  for fichero in ficheros:\n",
        "    ficheroEntrada = base + fichero\n",
        "    directorio = base.split('/')[-1]\n",
        "    if fichero[0:3] == \"SPA\": # Language ID. Change if you are processing text from ther collection.\n",
        "      with open(ficheroEntrada, 'r') as tei: #Opens the file\n",
        "        soup = BeautifulSoup(tei, 'xml') #Parse the XML\n",
        "        print(\"Processing\", ficheroEntrada) #Only to see the process. Comment if it's not important.\n",
        "        title = soup.title.text #extracts the title\n",
        "        author = soup.author.text #extracts author name\n",
        "        authors_titles.append((author, title)) #and stores the information in \"authors_titles\" variable.\n",
        "\n",
        "for item in authors_titles:\n",
        "  print(item[0], item[1]) #Only to show the results.\n"
      ],
      "execution_count": null,
      "outputs": []
    },
    {
      "cell_type": "markdown",
      "metadata": {
        "id": "FArsaISfwEyI"
      },
      "source": [
        "To save results in a file (CSV) and download:"
      ]
    },
    {
      "cell_type": "code",
      "metadata": {
        "colab": {
          "base_uri": "https://localhost:8080/",
          "height": 17
        },
        "id": "-yvuu2G7wELY",
        "outputId": "8ed93af3-edb4-4c16-99fd-736f28716ddd"
      },
      "source": [
        "from google.colab import files\n",
        "\n",
        "authors_titles_out = ''\n",
        "for item in authors_titles:\n",
        "  author = item[0]\n",
        "  title = item[1]\n",
        "  authors_titles_out+=author+'\\t'+title+'\\n'\n",
        "\n",
        "out = open('author_titles.csv', 'w') #Opens a file in write mode (\"w\").\n",
        "out.write(authors_titles_out) # \"Writes\" the content of authors_titles_out in the file\n",
        "out.close() #Closes the file\n",
        "\n",
        "files.download('author_titles.csv') #To download the file. Now you can open it with a spreadsheet application."
      ],
      "execution_count": null,
      "outputs": [
        {
          "output_type": "display_data",
          "data": {
            "application/javascript": [
              "\n",
              "    async function download(id, filename, size) {\n",
              "      if (!google.colab.kernel.accessAllowed) {\n",
              "        return;\n",
              "      }\n",
              "      const div = document.createElement('div');\n",
              "      const label = document.createElement('label');\n",
              "      label.textContent = `Downloading \"${filename}\": `;\n",
              "      div.appendChild(label);\n",
              "      const progress = document.createElement('progress');\n",
              "      progress.max = size;\n",
              "      div.appendChild(progress);\n",
              "      document.body.appendChild(div);\n",
              "\n",
              "      const buffers = [];\n",
              "      let downloaded = 0;\n",
              "\n",
              "      const channel = await google.colab.kernel.comms.open(id);\n",
              "      // Send a message to notify the kernel that we're ready.\n",
              "      channel.send({})\n",
              "\n",
              "      for await (const message of channel.messages) {\n",
              "        // Send a message to notify the kernel that we're ready.\n",
              "        channel.send({})\n",
              "        if (message.buffers) {\n",
              "          for (const buffer of message.buffers) {\n",
              "            buffers.push(buffer);\n",
              "            downloaded += buffer.byteLength;\n",
              "            progress.value = downloaded;\n",
              "          }\n",
              "        }\n",
              "      }\n",
              "      const blob = new Blob(buffers, {type: 'application/binary'});\n",
              "      const a = document.createElement('a');\n",
              "      a.href = window.URL.createObjectURL(blob);\n",
              "      a.download = filename;\n",
              "      div.appendChild(a);\n",
              "      a.click();\n",
              "      div.remove();\n",
              "    }\n",
              "  "
            ],
            "text/plain": [
              "<IPython.core.display.Javascript object>"
            ]
          },
          "metadata": {
            "tags": []
          }
        },
        {
          "output_type": "display_data",
          "data": {
            "application/javascript": [
              "download(\"download_daf86662-85bc-4294-af5c-737c2f523f86\", \"author_titles.csv\", 6540)"
            ],
            "text/plain": [
              "<IPython.core.display.Javascript object>"
            ]
          },
          "metadata": {
            "tags": []
          }
        }
      ]
    },
    {
      "cell_type": "markdown",
      "metadata": {
        "id": "JQBg4L1oyxjO"
      },
      "source": [
        "# Open each file and extract information about author and gender\n",
        "\n",
        "Now let's see female and male authors. "
      ]
    },
    {
      "cell_type": "code",
      "metadata": {
        "id": "2M87naQ3zDVZ"
      },
      "source": [
        "dir_in = \"/content/ELTeC-spa-master/level1/\"\n",
        "\n",
        "females = []\n",
        "males = []\n",
        "\n",
        "for base, directorios, ficheros in os.walk(dir_in): #Go through directory and open file one by one\n",
        "  for fichero in ficheros:\n",
        "    ficheroEntrada = base + fichero\n",
        "    if fichero[0:3] == \"SPA\": # Language ID. Change if you are processing text from ther collection.\n",
        "      with open(ficheroEntrada, 'r') as tei:\n",
        "        soup = BeautifulSoup(tei, 'xml')\n",
        "        print(\"Processing\", ficheroEntrada)\n",
        "        author = soup.author.text # Extract author\n",
        "        gender = soup.authorGender[\"key\"] # Extract gender\n",
        "        if gender == 'F':\n",
        "          if author not in females: \n",
        "            females.append(author) #stores the information\n",
        "          \n",
        "        elif gender == 'M':\n",
        "          if author not in males:\n",
        "            males.append(author)  #stores the information\n",
        "\n",
        "results = [len(females), len(males)] # Counts the number of female and male authors.\n",
        "print(\"Results:\\n\\tFemale: \"+str(len(females))+\"\\n\\tMale: \"+str(len(males))) # shows results\n",
        "\n",
        "females_out = '' # To store the names of females authors in string format\n",
        "males_out = '' # Idem male authors\n",
        "\n",
        "for item in females: #Extract each name and write it in \"out\" variable (as string).\n",
        "  females_out+=item+'\\n'\n",
        "for item in males:\n",
        "  males_out+=item+'\\n'\n",
        "\n",
        "outF = open('author_females.txt', 'w') #Opens a file in write mode (\"w\").\n",
        "outM = open('author_males.txt', 'w') #Opens a file in write mode (\"w\").\n",
        "outF.write(females_out) # \"Writes\" the content of \"female_out\" in the file\n",
        "outF.close() #Closes the file\n",
        "outM.write(males_out) # \"Writes\" the content of \"male_out\" in the file\n",
        "outM.close() #Closes the file\n",
        "\n",
        "files.download('author_females.txt')\n",
        "files.download('author_males.txt')\n"
      ],
      "execution_count": null,
      "outputs": []
    },
    {
      "cell_type": "markdown",
      "metadata": {
        "id": "WhJUbSwUF7AP"
      },
      "source": [
        "### Plotting"
      ]
    },
    {
      "cell_type": "code",
      "metadata": {
        "id": "MclHZ84ZF5im"
      },
      "source": [
        "import matplotlib.pyplot as plt\n",
        "\n",
        "x = ['Female', 'Male'] \n",
        "y = results #data\n",
        "plt.bar(x,y) #Creates the plot\n",
        "plt.xlabel('Gender')\n",
        "plt.title('Gender distribution in ELTeC-SPA')\n",
        "plt.show()\n",
        "\n",
        "#For test: calculate percentage\n",
        "#total = results[0]+results[1]\n",
        "#data = [(results[0]*100/total), (results[1]*100/total)]\n"
      ],
      "execution_count": null,
      "outputs": []
    }
  ]
}