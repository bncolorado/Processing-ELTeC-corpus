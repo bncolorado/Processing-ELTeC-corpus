{
  "nbformat": 4,
  "nbformat_minor": 0,
  "metadata": {
    "colab": {
      "name": "ELTeC_ExtractAuthorGenderFromSeveralCollections.ipynb",
      "provenance": [],
      "collapsed_sections": [],
      "toc_visible": true,
      "authorship_tag": "ABX9TyNF31w+IrlnVPkixj+nVFdW",
      "include_colab_link": true
    },
    "kernelspec": {
      "name": "python3",
      "display_name": "Python 3"
    },
    "language_info": {
      "name": "python"
    }
  },
  "cells": [
    {
      "cell_type": "markdown",
      "metadata": {
        "id": "view-in-github",
        "colab_type": "text"
      },
      "source": [
        "<a href=\"https://colab.research.google.com/github/bncolorado/Processing-ELTeC-corpus/blob/main/COLAB_notebooks/ELTeC_ExtractAuthorGenderFromSeveralCollections.ipynb\" target=\"_parent\"><img src=\"https://colab.research.google.com/assets/colab-badge.svg\" alt=\"Open In Colab\"/></a>"
      ]
    },
    {
      "cell_type": "markdown",
      "metadata": {
        "id": "4hVyuckezcR5"
      },
      "source": [
        "# Extracting author and gender from several ELTeC collections\n",
        "\n",
        "Borja Navarro Colorado | University of Alicante\n",
        "\n",
        "This notebook is similar to the previous one, but in this case we will extract information from two ELTeC collections."
      ]
    },
    {
      "cell_type": "markdown",
      "metadata": {
        "id": "0_RDdrzg4YsJ"
      },
      "source": [
        "## Download and extracting files\n",
        "\n",
        "The idea is to put all novels (from two or more collection) in a single folder, in a such way that we can iterate over this single folder.\n",
        "\n",
        "Three steps:\n",
        "\n",
        "1. Download from GitHub and extract the complete collection in Google Drive\n",
        "2. Repeat for each collection\n",
        "3. Copy (or move) all the novels from the level 1 of each collection to a single directory\n",
        "4. Delete the remaining files of each collection because we will do not use them.\n"
      ]
    },
    {
      "cell_type": "markdown",
      "metadata": {
        "id": "OivyjQRj6VMe"
      },
      "source": [
        "### Download and extracting files fom ELTeC-SPA"
      ]
    },
    {
      "cell_type": "code",
      "metadata": {
        "id": "z22lBUoszWVK"
      },
      "source": [
        "import zipfile\n",
        "\n",
        "!wget \"https://github.com/COST-ELTeC/ELTeC-spa/archive/refs/heads/master.zip\" # paste here corpus url\n",
        "\n",
        "zip_ref = zipfile.ZipFile('master.zip', 'r') #Opens the zip file in read mode\n",
        "zip_ref.extractall() #Extracts files here (/content/)\n",
        "zip_ref.close() \n",
        "!rm master.zip #Removes ZIP to save space"
      ],
      "execution_count": null,
      "outputs": []
    },
    {
      "cell_type": "markdown",
      "metadata": {
        "id": "ZtRWf9fJ6dUa"
      },
      "source": [
        "### Download and extracting files fom ELTeC-ENG\n",
        "\n",
        "The same process as above, but with the ZIP file of ELTeC-ENG collection.\n",
        "\n",
        "This process could be repeted for more collections. In this case we will use only two collections."
      ]
    },
    {
      "cell_type": "code",
      "metadata": {
        "id": "88pnSUuf0Ecx"
      },
      "source": [
        "!wget \"https://github.com/COST-ELTeC/ELTeC-eng/archive/refs/heads/master.zip\" # paste here corpus url\n",
        "\n",
        "zip_ref = zipfile.ZipFile('master.zip', 'r') #Opens the zip file in read mode\n",
        "zip_ref.extractall() #Extracts files here (/content/)\n",
        "zip_ref.close()\n",
        "!rm master.zip #Removes ZIP to save space"
      ],
      "execution_count": null,
      "outputs": []
    },
    {
      "cell_type": "markdown",
      "metadata": {
        "id": "0zRRBWNw6wRS"
      },
      "source": [
        "### Moving files to a new folder"
      ]
    },
    {
      "cell_type": "code",
      "metadata": {
        "id": "HShEhvgZ158l"
      },
      "source": [
        "\n",
        "!mkdir ENG_SPA_collection #Creates a new folder to save here the novels (all).\n",
        "!mv /content/ELTeC-eng-master/level1/*.xml /content/ENG_SPA_collection #Moves files from ENG collection\n",
        "!mv /content/ELTeC-spa-master/level1/*.xml /content/ENG_SPA_collection #Moves files from SPA collection\n"
      ],
      "execution_count": null,
      "outputs": []
    },
    {
      "cell_type": "markdown",
      "metadata": {
        "id": "Ob48Nf8y31gr"
      },
      "source": [
        "Finally, let's delete the remaining files of each collection (level 0, 2, etc.) to save space:"
      ]
    },
    {
      "cell_type": "code",
      "metadata": {
        "id": "O_bckFqD30Pt"
      },
      "source": [
        "!rm -r /content/ELTeC-eng-master/\n",
        "!rm -r /content/ELTeC-spa-master/"
      ],
      "execution_count": null,
      "outputs": []
    },
    {
      "cell_type": "markdown",
      "metadata": {
        "id": "a6AyAzd_7KAq"
      },
      "source": [
        "Now we have all the English and Spanish novels in the same folder (\"ENG_SPA_collection\"). This way we can proceed to extract the information as in the previous notebook. "
      ]
    },
    {
      "cell_type": "markdown",
      "metadata": {
        "id": "NB7FZO3778C3"
      },
      "source": [
        "# Open each file and extract information about author and gender"
      ]
    },
    {
      "cell_type": "code",
      "metadata": {
        "id": "iJxDFeDv8HNo"
      },
      "source": [
        "import os\n",
        "from google.colab import files\n",
        "from bs4 import BeautifulSoup\n",
        "\n",
        "dir_in = \"/content/ENG_SPA_collection/\"\n",
        "\n",
        "females = []\n",
        "males = []\n",
        "\n",
        "for base, directorios, ficheros in os.walk(dir_in): #Go through directory and open file one by one\n",
        "  for fichero in ficheros:\n",
        "    ficheroEntrada = base + fichero\n",
        "    with open(ficheroEntrada, 'r') as tei:\n",
        "      soup = BeautifulSoup(tei, 'xml')\n",
        "      print(\"Processing\", fichero)\n",
        "      author = soup.author.text # Extract author\n",
        "      gender = soup.authorGender[\"key\"] # Extract gender\n",
        "      if gender == 'F':\n",
        "        if author not in females: \n",
        "          females.append(author) #stores the information\n",
        "          \n",
        "      elif gender == 'M':\n",
        "        if author not in males:\n",
        "          males.append(author)  #stores the information\n",
        "\n",
        "results = [len(females), len(males)] #Count number of female and male authors.\n",
        "total = len(females) + len(males) \n",
        "print(\"Results:\\n\\tFemale: \"+str(len(females))+\"\\n\\tMale: \"+str(len(males))+\"\\n\\tTOTAL: \"+str(total))\n",
        "\n",
        "females_out = ''\n",
        "males_out = ''\n",
        "\n",
        "for item in females: # to string to save in a file\n",
        "  females_out+=item+'\\n'\n",
        "for item in males:\n",
        "  males_out+=item+'\\n'\n",
        "\n",
        "outF = open('author_females.txt', 'w') #Opens a file in write mode (\"w\").\n",
        "outM = open('author_males.txt', 'w') #Opens a file in write mode (\"w\").\n",
        "outF.write(females_out) # \"Writes\" the content of the \"females_out\" variable (string) in the file.\n",
        "outF.close() #Closes the file\n",
        "outM.write(males_out) # \"Writes\" the content of the \"males_out\" variable (string) in the file.\n",
        "outM.close() #Closes the file.\n",
        "\n",
        "files.download('author_females.txt')\n",
        "files.download('author_males.txt')\n"
      ],
      "execution_count": null,
      "outputs": []
    },
    {
      "cell_type": "markdown",
      "metadata": {
        "id": "ACwEoIkC99wB"
      },
      "source": [
        "## Plotting\n",
        "\n",
        "In this case the plot shows the percentage.\n"
      ]
    },
    {
      "cell_type": "code",
      "metadata": {
        "colab": {
          "base_uri": "https://localhost:8080/",
          "height": 312
        },
        "id": "KsoocV8K9_0Q",
        "outputId": "c1ffc28a-4c7a-4f69-df94-e836169e2654"
      },
      "source": [
        "import matplotlib.pyplot as plt\n",
        "\n",
        "data = [(len(females)*100/total), (len(males)*100/total)]\n",
        "N = data[0]+data[1]\n",
        "x = ['Female', 'Male'] \n",
        "y = data #results #data\n",
        "plt.bar(x,y) #Creates the plot\n",
        "plt.xlabel('Gender')\n",
        "plt.title('Gender distribution ELTeC-SPA & ELTeC-ENG')\n",
        "plt.show()\n",
        "print(str(data[0])+\"% | \"+str(data[1])+\"% | N=\"+str(N))"
      ],
      "execution_count": null,
      "outputs": [
        {
          "output_type": "display_data",
          "data": {
            "image/png": "[encoded data removed]",
            "text/plain": [
              "<Figure size 432x288 with 1 Axes>"
            ]
          },
          "metadata": {
            "tags": [],
            "needs_background": "light"
          }
        },
        {
          "output_type": "stream",
          "text": [
            "34.074074074074076% | 65.92592592592592% | N=100.0\n"
          ],
          "name": "stdout"
        }
      ]
    }
  ]
}